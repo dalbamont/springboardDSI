{
 "cells": [
  {
   "cell_type": "markdown",
   "metadata": {},
   "source": [
    "# XML example and exercise\n",
    "****\n",
    "+ study examples of accessing nodes in XML tree structure  \n",
    "+ work on exercise to be completed and submitted\n",
    "****\n",
    "+ reference: https://docs.python.org/2.7/library/xml.etree.elementtree.html\n",
    "+ data source: http://www.dbis.informatik.uni-goettingen.de/Mondial\n",
    "****"
   ]
  },{
 "cells": [
  {
   "cell_type": "markdown",
   "metadata": {},
   "source": [
    "# XML example and exercise\n",
    "****\n",
    "+ study examples of accessing nodes in XML tree structure  \n",
    "+ work on exercise to be completed and submitted\n",
    "****\n",
    "+ reference: https://docs.python.org/2.7/library/xml.etree.elementtree.html\n",
    "+ data source: http://www.dbis.informatik.uni-goettingen.de/Mondial\n",
    "****"
   ]
  },
  {
   "cell_type": "code",
   "execution_count": 1,
   "metadata": {
    "collapsed": true
   },
   "outputs": [],
   "source": [
    "from xml.etree import ElementTree as ET"
   ]
  },
  {
   "cell_type": "markdown",
   "metadata": {},
   "source": [
    "## XML example\n",
    "\n",
    "+ for details about tree traversal and iterators, see https://docs.python.org/2.7/library/xml.etree.elementtree.html"
   ]
  },
  {
   "cell_type": "code",
   "execution_count": 2,
   "metadata": {
    "collapsed": true
   },
   "outputs": [],
   "source": [
    "document_tree = ET.parse( './data/mondial_database_less.xml' )"
   ]
  },
  {
   "cell_type": "code",
   "execution_count": 6,
   "metadata": {
    "collapsed": false
   },
   "outputs": [
    {
     "name": "stdout",
     "output_type": "stream",
     "text": [
      "Albania\n",
      "Greece\n",
      "Macedonia\n",
      "Serbia\n",
      "Montenegro\n",
      "Kosovo\n",
      "Andorra\n"
     ]
    }
   ],
   "source": [
    "# print names of all countries\n",
    "for child in document_tree.getroot():\n",
    "    print (child.find('name').text)"
   ]
  },
  {
   "cell_type": "code",
   "execution_count": 9,
   "metadata": {
    "collapsed": false,
    "scrolled": true
   },
   "outputs": [
    {
     "name": "stdout",
     "output_type": "stream",
     "text": [
      "* Albania:\n",
      "Tirana, Shkodër, Durrës, Vlorë, Elbasan, Korçë\n",
      "* Greece:\n",
      "Komotini, Kavala, Athina, Peiraias, Peristeri, Acharnes, Patra, Kozani, Kerkyra, Ioannina, Thessaloniki, Iraklio, Chania, Ermoupoli, Rhodes, Tripoli, Lamia, Chalkida, Larissa, Volos, Mytilini, Karyes\n",
      "* Macedonia:\n",
      "Skopje, Kumanovo\n",
      "* Serbia:\n",
      "Beograd, Novi Sad, Niš\n",
      "* Montenegro:\n",
      "Podgorica\n",
      "* Kosovo:\n",
      "Prishtine\n",
      "* Andorra:\n",
      "Andorra la Vella\n"
     ]
    }
   ],
   "source": [
    "# print names of all countries and their cities\n",
    "for element in document_tree.iterfind('country'):\n",
    "    print (\"* \" + element.find('name').text + ':',)\n",
    "    capitals_string = ''\n",
    "    for subelement in element.getiterator('city'):\n",
    "        capitals_string += subelement.find('name').text + ', '\n",
    "    print (capitals_string[:-2])"
   ]
  },
  {
   "cell_type": "markdown",
   "metadata": {},
   "source": [
    "****\n",
    "## XML exercise\n",
    "\n",
    "Using data in 'data/mondial_database.xml', the examples above, and refering to https://docs.python.org/2.7/library/xml.etree.elementtree.html, find\n",
    "\n",
    "1. 10 countries with the lowest infant mortality rates\n",
    "2. 10 cities with the largest population\n",
    "3. 10 ethnic groups with the largest overall populations (sum of best/latest estimates over all countries)\n",
    "4. name and country of a) longest river, b) largest lake and c) airport at highest elevation"
   ]
  },
  {
   "cell_type": "code",
   "execution_count": 10,
   "metadata": {
    "collapsed": true
   },
   "outputs": [
    {
     "data": {
      "text/html": [
       "<div>\n",
       "<table border=\"1\" class=\"dataframe\">\n",
       "  <thead>\n",
       "    <tr style=\"text-align: right;\">\n",
       "      <th></th>\n",
       "      <th>infant_mortality</th>\n",
       "      <th>name</th>\n",
       "    </tr>\n",
       "  </thead>\n",
       "  <tbody>\n",
       "    <tr>\n",
       "      <th>36</th>\n",
       "      <td>1.81</td>\n",
       "      <td>Monaco</td>\n",
       "    </tr>\n",
       "    <tr>\n",
       "      <th>90</th>\n",
       "      <td>2.13</td>\n",
       "      <td>Japan</td>\n",
       "    </tr>\n",
       "    <tr>\n",
       "      <th>109</th>\n",
       "      <td>2.48</td>\n",
       "      <td>Bermuda</td>\n",
       "    </tr>\n",
       "    <tr>\n",
       "      <th>34</th>\n",
       "      <td>2.48</td>\n",
       "      <td>Norway</td>\n",
       "    </tr>\n",
       "    <tr>\n",
       "      <th>98</th>\n",
       "      <td>2.53</td>\n",
       "      <td>Singapore</td>\n",
       "    </tr>\n",
       "    <tr>\n",
       "      <th>35</th>\n",
       "      <td>2.60</td>\n",
       "      <td>Sweden</td>\n",
       "    </tr>\n",
       "    <tr>\n",
       "      <th>8</th>\n",
       "      <td>2.63</td>\n",
       "      <td>Czech Republic</td>\n",
       "    </tr>\n",
       "    <tr>\n",
       "      <th>72</th>\n",
       "      <td>2.73</td>\n",
       "      <td>Hong Kong</td>\n",
       "    </tr>\n",
       "    <tr>\n",
       "      <th>73</th>\n",
       "      <td>3.13</td>\n",
       "      <td>Macao</td>\n",
       "    </tr>\n",
       "    <tr>\n",
       "      <th>39</th>\n",
       "      <td>3.15</td>\n",
       "      <td>Iceland</td>\n",
       "    </tr>\n",
       "  </tbody>\n",
       "</table>\n",
       "</div>"
      ],
      "text/plain": [
       "     infant_mortality            name\n",
       "36               1.81          Monaco\n",
       "90               2.13           Japan\n",
       "109              2.48         Bermuda\n",
       "34               2.48          Norway\n",
       "98               2.53       Singapore\n",
       "35               2.60          Sweden\n",
       "8                2.63  Czech Republic\n",
       "72               2.73       Hong Kong\n",
       "73               3.13           Macao\n",
       "39               3.15         Iceland"
      ]
     },
     "execution_count": 10,
     "metadata": {},
     "output_type": "execute_result"
    }
   ],
   "source": [
    "##Question 1\n",
    "\n",
    "#load file\n",
    "import pandas as pd\n",
    "document = ET.parse( './data/mondial_database.xml' )\n",
    "\n",
    "d=[]#initialize series\n",
    "#iterate through countries, not all countries have infant mortality information\n",
    "for country in document.findall(\"country\"):\n",
    "    name= country.find(\"name\").text\n",
    "    try:\n",
    "        inf= country.find(\"infant_mortality\").text\n",
    "        inf=float(inf)\n",
    "        #create series of dictionaries with info\n",
    "        d.append({'name': name, 'infant_mortality': inf})\n",
    "    except:\n",
    "        pass\n",
    "#convert to data frame and sort\n",
    "d=pd.DataFrame(d)\n",
    "d.sort_values(by=\"infant_mortality\").head(10)\n"
   ]
  },
  {
   "cell_type": "code",
   "execution_count": 11,
   "metadata": {
    "collapsed": true
   },
   "outputs": [
    {
     "data": {
      "text/html": [
       "<div>\n",
       "<table border=\"1\" class=\"dataframe\">\n",
       "  <thead>\n",
       "    <tr style=\"text-align: right;\">\n",
       "      <th></th>\n",
       "      <th>population</th>\n",
       "    </tr>\n",
       "    <tr>\n",
       "      <th>name</th>\n",
       "      <th></th>\n",
       "    </tr>\n",
       "  </thead>\n",
       "  <tbody>\n",
       "    <tr>\n",
       "      <th>China</th>\n",
       "      <td>1360720000</td>\n",
       "    </tr>\n",
       "    <tr>\n",
       "      <th>India</th>\n",
       "      <td>1210854977</td>\n",
       "    </tr>\n",
       "    <tr>\n",
       "      <th>United States</th>\n",
       "      <td>318857056</td>\n",
       "    </tr>\n",
       "    <tr>\n",
       "      <th>Indonesia</th>\n",
       "      <td>252124458</td>\n",
       "    </tr>\n",
       "    <tr>\n",
       "      <th>Brazil</th>\n",
       "      <td>202768562</td>\n",
       "    </tr>\n",
       "    <tr>\n",
       "      <th>Pakistan</th>\n",
       "      <td>173149306</td>\n",
       "    </tr>\n",
       "    <tr>\n",
       "      <th>Nigeria</th>\n",
       "      <td>164294516</td>\n",
       "    </tr>\n",
       "    <tr>\n",
       "      <th>Bangladesh</th>\n",
       "      <td>149772364</td>\n",
       "    </tr>\n",
       "    <tr>\n",
       "      <th>Russia</th>\n",
       "      <td>148178487</td>\n",
       "    </tr>\n",
       "    <tr>\n",
       "      <th>Japan</th>\n",
       "      <td>128057352</td>\n",
       "    </tr>\n",
       "  </tbody>\n",
       "</table>\n",
       "</div>"
      ],
      "text/plain": [
       "               population\n",
       "name                     \n",
       "China          1360720000\n",
       "India          1210854977\n",
       "United States   318857056\n",
       "Indonesia       252124458\n",
       "Brazil          202768562\n",
       "Pakistan        173149306\n",
       "Nigeria         164294516\n",
       "Bangladesh      149772364\n",
       "Russia          148178487\n",
       "Japan           128057352"
      ]
     },
     "execution_count": 11,
     "metadata": {},
     "output_type": "execute_result"
    }
   ],
   "source": [
    "##Question 2\n",
    "\n",
    "#Load information \n",
    "import pandas as pd\n",
    "document = ET.parse( './data/mondial_database.xml' )\n",
    "d=[]#initialize series\n",
    "\n",
    "#iterate through all population values in all countries\n",
    "for country in document.findall(\"country\"):\n",
    "    name=(country.find(\"name\").text)\n",
    "    for populationValue in country.findall(\"population\"):\n",
    "        population=populationValue.text\n",
    "        population=int(population)\n",
    "        d.append({'name': name, 'population': population})\n",
    "#convert to DataFrame and Sort\n",
    "d=pd.DataFrame(d)\n",
    "d=d.groupby(\"name\").max()\n",
    "d.sort_values(by='population', ascending=0).head(10)"
   ]
  },
  {
   "cell_type": "code",
   "execution_count": 62,
   "metadata": {
    "collapsed": true
   },
   "outputs": [
    {
     "data": {
      "text/html": [
       "<div>\n",
       "<table border=\"1\" class=\"dataframe\">\n",
       "  <thead>\n",
       "    <tr style=\"text-align: right;\">\n",
       "      <th></th>\n",
       "      <th>ethnicPop</th>\n",
       "    </tr>\n",
       "    <tr>\n",
       "      <th>ethnicity</th>\n",
       "      <th></th>\n",
       "    </tr>\n",
       "  </thead>\n",
       "  <tbody>\n",
       "    <tr>\n",
       "      <th>Indo-Aryan</th>\n",
       "      <td>8.718156e+10</td>\n",
       "    </tr>\n",
       "    <tr>\n",
       "      <th>African</th>\n",
       "      <td>6.677246e+10</td>\n",
       "    </tr>\n",
       "    <tr>\n",
       "      <th>Bhote</th>\n",
       "      <td>6.054275e+10</td>\n",
       "    </tr>\n",
       "    <tr>\n",
       "      <th>Nepalese</th>\n",
       "      <td>4.237992e+10</td>\n",
       "    </tr>\n",
       "    <tr>\n",
       "      <th>Dravidian</th>\n",
       "      <td>3.027137e+10</td>\n",
       "    </tr>\n",
       "    <tr>\n",
       "      <th>Bengali</th>\n",
       "      <td>1.467769e+10</td>\n",
       "    </tr>\n",
       "    <tr>\n",
       "      <th>Burman</th>\n",
       "      <td>1.018452e+10</td>\n",
       "    </tr>\n",
       "    <tr>\n",
       "      <th>Arab</th>\n",
       "      <td>9.347405e+09</td>\n",
       "    </tr>\n",
       "    <tr>\n",
       "      <th>Arab-Berber</th>\n",
       "      <td>8.570941e+09</td>\n",
       "    </tr>\n",
       "    <tr>\n",
       "      <th>Tajik</th>\n",
       "      <td>7.959761e+09</td>\n",
       "    </tr>\n",
       "  </tbody>\n",
       "</table>\n",
       "</div>"
      ],
      "text/plain": [
       "                ethnicPop\n",
       "ethnicity                \n",
       "Indo-Aryan   8.718156e+10\n",
       "African      6.677246e+10\n",
       "Bhote        6.054275e+10\n",
       "Nepalese     4.237992e+10\n",
       "Dravidian    3.027137e+10\n",
       "Bengali      1.467769e+10\n",
       "Burman       1.018452e+10\n",
       "Arab         9.347405e+09\n",
       "Arab-Berber  8.570941e+09\n",
       "Tajik        7.959761e+09"
      ]
     },
     "execution_count": 62,
     "metadata": {},
     "output_type": "execute_result"
    }
   ],
   "source": [
    "##Question3\n",
    "\n",
    "#Load and intialize\n",
    "import pandas as pd\n",
    "document = ET.parse( './data/mondial_database.xml' )\n",
    "d=[]\n",
    "\n",
    "#Loop through countries\n",
    "for country in document.findall(\"country\"):\n",
    "    name = country.find(\"name\").text\n",
    "    #loop children (stops from looking into city population)\n",
    "    for element in country.getchildren():\n",
    "        #2011 is most recent, keeps from getting old population data\n",
    "        if (element.get(\"year\")==\"2011\") & (element.tag==\"population\"):\n",
    "            totalPop=float(element.text)\n",
    "    #loop through all ethnicgroups and gets percentage value\n",
    "    for element in country.getiterator(\"ethnicgroup\"):\n",
    "        percentage= float(element.get(\"percentage\"))\n",
    "        ethnicPop=percentage*totalPop\n",
    "        ethnicity= element.text\n",
    "        #create series with all information \n",
    "        d.append({\"Country\":name,\"ethnicity\":ethnicity,\"ethnicPop\":ethnicPop})\n",
    "        \n",
    "#Set up and sort dataframe\n",
    "d=pd.DataFrame(d,columns=['Country','ethnicity','ethnicPop'])\n",
    "d.groupby('ethnicity').sum().sort_values(by=\"ethnicPop\", ascending=0).head(10)\n",
    "\n",
    "            "
   ]
  },
  {
   "cell_type": "code",
   "execution_count": 159,
   "metadata": {
    "collapsed": false
   },
   "outputs": [
    {
     "name": "stdout",
     "output_type": "stream",
     "text": [
      "['Colombia', 'Brazil', 'Peru'] Amazonas\n",
      "['Russia', 'Iran', 'Turkmenistan', 'Azerbaijan', 'Kazakhstan'] Caspian Sea\n",
      "['Bolivia'] El Alto Intl\n"
     ]
    }
   ],
   "source": [
    "##Question4\n",
    "\n",
    "#Load and intialize\n",
    "import pandas as pd\n",
    "document = ET.parse( './data/mondial_database.xml' )\n",
    "d=[]\n",
    "h=[]\n",
    "longestRiver={\"length\":0.}\n",
    "largestLake={\"area\":0.}\n",
    "highestAirport={\"height\":0.}\n",
    "\n",
    "#Longest River\n",
    "for river in document.findall('river'):\n",
    "    try:\n",
    "        if (float(river.find('length').text)) > (longestRiver[\"length\"]):\n",
    "            longestRiver={\"countryCode\":river.get('country'),\"length\":float(river.find(\"length\").text),\"River Name\":river.find(\"name\").text}\n",
    "    except:\n",
    "        pass\n",
    "riverCountries=longestRiver[\"countryCode\"].split(' ')\n",
    "#Search for Country Name with Country Code (seems inefficient-> is there a better way to do this?)\n",
    "for country in document.findall('country'):\n",
    "    for item in riverCountries:\n",
    "        if country.get('car_code')==item:\n",
    "            h.append(country.find(\"name\").text)\n",
    "#print\n",
    "longestRiver['Country']=h\n",
    "print(longestRiver['Country'],longestRiver['River Name'])\n",
    "\n",
    "\n",
    "\n",
    "#Find Largest Lake\n",
    "h=[]\n",
    "for lake in document.findall('lake'):\n",
    "    try:\n",
    "        if (float(lake.find('area').text)) > (largestLake[\"area\"]):\n",
    "            largestLake={\"countryCode\":lake.get('country'),\"area\":float(lake.find(\"area\").text),\"Lake Name\":lake.find(\"name\").text}\n",
    "    except:\n",
    "        pass\n",
    "\n",
    "if len(largestLake[\"countryCode\"])>1:\n",
    "    lakeCountries=largestLake[\"countryCode\"].split(' ')\n",
    "else:\n",
    "    lakeCountries=largestLake[\"countryCode\"]\n",
    "#Search countries to get Country Name from country code \n",
    "for country in document.findall('country'):\n",
    "    for item in lakeCountries:\n",
    "        if country.get('car_code')==item:\n",
    "            h.append(country.find(\"name\").text)\n",
    "#print\n",
    "largestLake['Country']=h\n",
    "print(largestLake['Country'],largestLake['Lake Name'])\n",
    "\n",
    "\n",
    "#Find Highest Airport\n",
    "h=[]\n",
    "for airport in document.findall('airport'):\n",
    "    try:\n",
    "        if (float(airport.find('elevation').text)) > (highestAirport[\"height\"]):\n",
    "            highestAirport={\"countryCode\":airport.get('country'),\"height\":float(airport.find(\"elevation\").text),\"Airport Name\":airport.find(\"name\").text}\n",
    "    except:\n",
    "        pass\n",
    "if len(highestAirport[\"countryCode\"])>1:\n",
    "    airportCountries=highestAirport[\"countryCode\"].split(' ')\n",
    "else:\n",
    "    airportCountries=highestAirport[\"countryCode\"]\n",
    "#Search countries to get Country Name from country code \n",
    "for country in document.findall('country'):\n",
    "    for item in airportCountries:\n",
    "        if country.get('car_code')==item:\n",
    "            h.append(country.find(\"name\").text)\n",
    "#print\n",
    "highestAirport['Country']=h\n",
    "print(highestAirport['Country'],highestAirport['Airport Name'])\n"
   ]
  },
  {
   "cell_type": "code",
   "execution_count": null,
   "metadata": {
    "collapsed": true
   },
   "outputs": [],
   "source": []
  }
 ],
 "metadata": {
  "kernelspec": {
   "display_name": "Python 3",
   "language": "python",
   "name": "python3"
  },
  "language_info": {
   "codemirror_mode": {
    "name": "ipython",
    "version": 3
   },
   "file_extension": ".py",
   "mimetype": "text/x-python",
   "name": "python",
   "nbconvert_exporter": "python",
   "pygments_lexer": "ipython3",
   "version": "3.6.0"
  }
 },
 "nbformat": 4,
 "nbformat_minor": 0
}

  {
   "cell_type": "code",
   "execution_count": 4,
   "metadata": {
    "collapsed": true
   },
   "outputs": [],
   "source": [
    "from xml.etree import ElementTree as ET"
   ]
  },
  {
   "cell_type": "markdown",
   "metadata": {},
   "source": [
    "## XML example\n",
    "\n",
    "+ for details about tree traversal and iterators, see https://docs.python.org/2.7/library/xml.etree.elementtree.html"
   ]
  },
  {
   "cell_type": "code",
   "execution_count": 3,
   "metadata": {
    "collapsed": true
   },
   "outputs": [],
   "source": [
    "document_tree = ET.parse( './data/mondial_database_less.xml' )"
   ]
  },
  {
   "cell_type": "code",
   "execution_count": 4,
   "metadata": {
    "collapsed": false
   },
   "outputs": [
    {
     "name": "stdout",
     "output_type": "stream",
     "text": [
      "Albania\n",
      "Greece\n",
      "Macedonia\n",
      "Serbia\n",
      "Montenegro\n",
      "Kosovo\n",
      "Andorra\n"
     ]
    }
   ],
   "source": [
    "# print names of all countries\n",
    "for child in document_tree.getroot():\n",
    "    print child.find('name').text"
   ]
  },
  {
   "cell_type": "code",
   "execution_count": 5,
   "metadata": {
    "collapsed": false,
    "scrolled": true
   },
   "outputs": [
    {
     "name": "stdout",
     "output_type": "stream",
     "text": [
      "* Albania: Tirana, Shkodër, Durrës, Vlorë, Elbasan, Korçë\n",
      "* Greece: Komotini, Kavala, Athina, Peiraias, Peristeri, Acharnes, Patra, Kozani, Kerkyra, Ioannina, Thessaloniki, Iraklio, Chania, Ermoupoli, Rhodes, Tripoli, Lamia, Chalkida, Larissa, Volos, Mytilini, Karyes\n",
      "* Macedonia: Skopje, Kumanovo\n",
      "* Serbia: Beograd, Novi Sad, Niš\n",
      "* Montenegro: Podgorica\n",
      "* Kosovo: Prishtine\n",
      "* Andorra: Andorra la Vella\n"
     ]
    }
   ],
   "source": [
    "# print names of all countries and their cities\n",
    "for element in document_tree.iterfind('country'):\n",
    "    print '* ' + element.find('name').text + ':',\n",
    "    capitals_string = ''\n",
    "    for subelement in element.getiterator('city'):\n",
    "        capitals_string += subelement.find('name').text + ', '\n",
    "    print capitals_string[:-2]"
   ]
  },
  {
   "cell_type": "markdown",
   "metadata": {},
   "source": [
    "****\n",
    "## XML exercise\n",
    "\n",
    "Using data in 'data/mondial_database.xml', the examples above, and refering to https://docs.python.org/2.7/library/xml.etree.elementtree.html, find\n",
    "\n",
    "1. 10 countries with the lowest infant mortality rates\n",
    "2. 10 cities with the largest population\n",
    "3. 10 ethnic groups with the largest overall populations (sum of best/latest estimates over all countries)\n",
    "4. name and country of a) longest river, b) largest lake and c) airport at highest elevation"
   ]
  },
  {
   "cell_type": "code",
   "execution_count": 62,
   "metadata": {
    "collapsed": true
   },
   "outputs": [
    {
     "data": {
      "text/html": [
       "<div>\n",
       "<table border=\"1\" class=\"dataframe\">\n",
       "  <thead>\n",
       "    <tr style=\"text-align: right;\">\n",
       "      <th></th>\n",
       "      <th>infant_mortality</th>\n",
       "      <th>name</th>\n",
       "    </tr>\n",
       "  </thead>\n",
       "  <tbody>\n",
       "    <tr>\n",
       "      <th>36</th>\n",
       "      <td>1.81</td>\n",
       "      <td>Monaco</td>\n",
       "    </tr>\n",
       "    <tr>\n",
       "      <th>90</th>\n",
       "      <td>2.13</td>\n",
       "      <td>Japan</td>\n",
       "    </tr>\n",
       "    <tr>\n",
       "      <th>109</th>\n",
       "      <td>2.48</td>\n",
       "      <td>Bermuda</td>\n",
       "    </tr>\n",
       "    <tr>\n",
       "      <th>34</th>\n",
       "      <td>2.48</td>\n",
       "      <td>Norway</td>\n",
       "    </tr>\n",
       "    <tr>\n",
       "      <th>98</th>\n",
       "      <td>2.53</td>\n",
       "      <td>Singapore</td>\n",
       "    </tr>\n",
       "    <tr>\n",
       "      <th>35</th>\n",
       "      <td>2.60</td>\n",
       "      <td>Sweden</td>\n",
       "    </tr>\n",
       "    <tr>\n",
       "      <th>8</th>\n",
       "      <td>2.63</td>\n",
       "      <td>Czech Republic</td>\n",
       "    </tr>\n",
       "    <tr>\n",
       "      <th>72</th>\n",
       "      <td>2.73</td>\n",
       "      <td>Hong Kong</td>\n",
       "    </tr>\n",
       "    <tr>\n",
       "      <th>73</th>\n",
       "      <td>3.13</td>\n",
       "      <td>Macao</td>\n",
       "    </tr>\n",
       "    <tr>\n",
       "      <th>39</th>\n",
       "      <td>3.15</td>\n",
       "      <td>Iceland</td>\n",
       "    </tr>\n",
       "  </tbody>\n",
       "</table>\n",
       "</div>"
      ],
      "text/plain": [
       "     infant_mortality            name\n",
       "36               1.81          Monaco\n",
       "90               2.13           Japan\n",
       "109              2.48         Bermuda\n",
       "34               2.48          Norway\n",
       "98               2.53       Singapore\n",
       "35               2.60          Sweden\n",
       "8                2.63  Czech Republic\n",
       "72               2.73       Hong Kong\n",
       "73               3.13           Macao\n",
       "39               3.15         Iceland"
      ]
     },
     "execution_count": 62,
     "metadata": {},
     "output_type": "execute_result"
    }
   ],
   "source": [
    "##Question 1\n",
    "\n",
    "#load file\n",
    "import pandas as pd\n",
    "document = ET.parse( './data/mondial_database.xml' )\n",
    "\n",
    "d=[]#initialize series\n",
    "#iterate through countries, not all countries have infant mortality information\n",
    "for country in document.findall(\"country\"):\n",
    "    name= country.find(\"name\").text\n",
    "    try:\n",
    "        inf= country.find(\"infant_mortality\").text\n",
    "        inf=float(inf)\n",
    "        #create series of dictionaries with info\n",
    "        d.append({'name': name, 'infant_mortality': inf})\n",
    "    except:\n",
    "        pass\n",
    "#convert to data frame and sort\n",
    "d=pd.DataFrame(d)\n",
    "d.sort_values(by=\"infant_mortality\").head(10)\n"
   ]
  },
  {
   "cell_type": "code",
   "execution_count": 138,
   "metadata": {
    "collapsed": false,
    "scrolled": true
   },
   "outputs": [
    {
     "data": {
      "text/html": [
       "<div>\n",
       "<table border=\"1\" class=\"dataframe\">\n",
       "  <thead>\n",
       "    <tr style=\"text-align: right;\">\n",
       "      <th></th>\n",
       "      <th>population</th>\n",
       "    </tr>\n",
       "    <tr>\n",
       "      <th>name</th>\n",
       "      <th></th>\n",
       "    </tr>\n",
       "  </thead>\n",
       "  <tbody>\n",
       "    <tr>\n",
       "      <th>China</th>\n",
       "      <td>1360720000</td>\n",
       "    </tr>\n",
       "    <tr>\n",
       "      <th>India</th>\n",
       "      <td>1210854977</td>\n",
       "    </tr>\n",
       "    <tr>\n",
       "      <th>United States</th>\n",
       "      <td>318857056</td>\n",
       "    </tr>\n",
       "    <tr>\n",
       "      <th>Indonesia</th>\n",
       "      <td>252124458</td>\n",
       "    </tr>\n",
       "    <tr>\n",
       "      <th>Brazil</th>\n",
       "      <td>202768562</td>\n",
       "    </tr>\n",
       "    <tr>\n",
       "      <th>Pakistan</th>\n",
       "      <td>173149306</td>\n",
       "    </tr>\n",
       "    <tr>\n",
       "      <th>Nigeria</th>\n",
       "      <td>164294516</td>\n",
       "    </tr>\n",
       "    <tr>\n",
       "      <th>Bangladesh</th>\n",
       "      <td>149772364</td>\n",
       "    </tr>\n",
       "    <tr>\n",
       "      <th>Russia</th>\n",
       "      <td>148178487</td>\n",
       "    </tr>\n",
       "    <tr>\n",
       "      <th>Japan</th>\n",
       "      <td>128057352</td>\n",
       "    </tr>\n",
       "  </tbody>\n",
       "</table>\n",
       "</div>"
      ],
      "text/plain": [
       "               population\n",
       "name                     \n",
       "China          1360720000\n",
       "India          1210854977\n",
       "United States   318857056\n",
       "Indonesia       252124458\n",
       "Brazil          202768562\n",
       "Pakistan        173149306\n",
       "Nigeria         164294516\n",
       "Bangladesh      149772364\n",
       "Russia          148178487\n",
       "Japan           128057352"
      ]
     },
     "execution_count": 138,
     "metadata": {},
     "output_type": "execute_result"
    }
   ],
   "source": [
    "##Question 2\n",
    "\n",
    "#Load information \n",
    "import pandas as pd\n",
    "document = ET.parse( './data/mondial_database.xml' )\n",
    "d=[]#initialize series\n",
    "\n",
    "#iterate through all population values in all countries\n",
    "for country in document.findall(\"country\"):\n",
    "    name=(country.find(\"name\").text)\n",
    "    for populationValue in country.findall(\"population\"):\n",
    "        population=populationValue.text\n",
    "        population=int(population)\n",
    "        d.append({'name': name, 'population': population})\n",
    "#convert to DataFrame and Sort\n",
    "d=pd.DataFrame(d)\n",
    "d=d.groupby(\"name\").max()\n",
    "d.sort_values(by='population', ascending=0).head(10)"
   ]
  },
  {
   "cell_type": "code",
   "execution_count": 174,
   "metadata": {
    "collapsed": false
   },
   "outputs": [
    {
     "name": "stdout",
     "output_type": "stream",
     "text": [
      "{'percentage': '95'}\n",
      "{'percentage': '3'}\n"
     ]
    }
   ],
   "source": [
    "import pandas as pd\n",
    "document = ET.parse( './data/mondial_database.xml' )\n",
    "d=[]\n",
    "\n",
    "for country in document.find(\"country\"):\n",
    "    #name = country.find(\"name\").text\n",
    "    for element in country.getiterator(\"ethnicgroup\"):\n",
    "        print (element.attrib)\n",
    "    #for ethnicgroup in country.findall(\"ethnicpopulation\"):\n",
    "     #   print(ethnicgroup.attrib)\n",
    "        #ethnicPop = ethnicgroup.text\n",
    "        #d.append({'name':name,\"ethnicPop\":ethnicPop})\n",
    "#d        "
   ]
  },
  {
   "cell_type": "code",
   "execution_count": null,
   "metadata": {
    "collapsed": true
   },
   "outputs": [],
   "source": []
  }
 ],
 "metadata": {
  "kernelspec": {
   "display_name": "Python 3",
   "language": "python",
   "name": "python3"
  },
  "language_info": {
   "codemirror_mode": {
    "name": "ipython",
    "version": 3
   },
   "file_extension": ".py",
   "mimetype": "text/x-python",
   "name": "python",
   "nbconvert_exporter": "python",
   "pygments_lexer": "ipython3",
   "version": "3.6.0"
  }
 },
 "nbformat": 4,
 "nbformat_minor": 0
}
